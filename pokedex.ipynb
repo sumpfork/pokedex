{
 "cells": [
  {
   "cell_type": "code",
   "execution_count": 1,
   "metadata": {},
   "outputs": [],
   "source": [
    "from urllib.request import urlopen\n",
    "\n",
    "from bs4 import BeautifulSoup\n",
    "\n",
    "with urlopen(\"https://pokemon.fandom.com/wiki/List_of_Pok%C3%A9mon\") as f:\n",
    "    contents = f.read()\n"
   ]
  },
  {
   "cell_type": "code",
   "execution_count": 4,
   "metadata": {},
   "outputs": [],
   "source": [
    "soup = BeautifulSoup(contents, \"html.parser\")\n"
   ]
  },
  {
   "cell_type": "code",
   "execution_count": 5,
   "metadata": {},
   "outputs": [],
   "source": [
    "all_pokemon = []\n",
    "for table in soup.find_all(class_=\"wikitable\"):\n",
    "    for row in table.find_all(\"tr\"):\n",
    "        pokemon = {}\n",
    "        cells = row.find_all(\"td\")\n",
    "        contents = [s.text.strip() for s in cells]\n",
    "        if contents:\n",
    "            # print(f\"num: {contents[0]}\")\n",
    "            pokemon[\"number\"] = int(contents[0])\n",
    "            # print(f\"name: {contents[2]}\")\n",
    "            pokemon[\"name\"] = contents[2]\n",
    "            if cells[1].a:\n",
    "                # print(f\"image: {cells[1].a['href']}\")\n",
    "                pokemon[\"image\"] = cells[1].a[\"href\"]\n",
    "            # else:\n",
    "                # print(f\"image: {cells[1]}\")\n",
    "            # print(f\"type 1: {contents[3]}\")\n",
    "            pokemon[\"type 1\"] = contents[3]\n",
    "            if contents[4]:\n",
    "                pokemon[\"type 2\"] = contents[4]\n",
    "                # print(f\"type 2: {contents[4]}\")\n",
    "            # print()\n",
    "            all_pokemon.append(pokemon)\n"
   ]
  },
  {
   "cell_type": "code",
   "execution_count": 6,
   "metadata": {},
   "outputs": [
    {
     "data": {
      "text/plain": [
       "1008"
      ]
     },
     "execution_count": 6,
     "metadata": {},
     "output_type": "execute_result"
    }
   ],
   "source": [
    "len(all_pokemon)\n"
   ]
  },
  {
   "cell_type": "code",
   "execution_count": 7,
   "metadata": {},
   "outputs": [],
   "source": [
    "import json\n",
    "\n",
    "with open(\"all_pokemon.json\", \"wt\") as f:\n",
    "    json.dump(all_pokemon, f, indent=4)\n"
   ]
  },
  {
   "cell_type": "code",
   "execution_count": 11,
   "metadata": {},
   "outputs": [],
   "source": [
    "from reportlab.pdfgen import canvas\n",
    "from reportlab.lib.units import inch\n",
    "from reportlab.lib.pagesizes import LETTER\n"
   ]
  },
  {
   "cell_type": "code",
   "execution_count": 16,
   "metadata": {},
   "outputs": [],
   "source": [
    "c = canvas.Canvas(\"pokedex.pdf\", pagesize=LETTER)\n",
    "\n",
    "vertical_margin = 0.5 * inch\n",
    "horizontal_margin = 0.18 * inch\n",
    "vertical_padding = 0.1 * inch\n",
    "horizontal_padding = 0.1 * inch\n",
    "\n",
    "POKEMON_PER_ROW = 6\n",
    "POKEMON_PER_COLUMN = 5\n",
    "\n",
    "pokemon_width = (\n",
    "    LETTER[0] - horizontal_margin * 2 - (POKEMON_PER_ROW - 1) * horizontal_padding\n",
    ") / (POKEMON_PER_ROW)\n",
    "\n",
    "pokemon_height = (LETTER[1] - vertical_margin * 2 - (\n",
    "    POKEMON_PER_COLUMN - 1\n",
    ") * vertical_padding) / (POKEMON_PER_COLUMN) \n",
    "\n",
    "pokemon_per_page = POKEMON_PER_ROW * POKEMON_PER_COLUMN\n",
    "\n",
    "new_page = True\n",
    "for row_num, row_starting_index in enumerate(\n",
    "    range(0, len(all_pokemon), POKEMON_PER_ROW)\n",
    "):\n",
    "    if new_page:\n",
    "        c.translate(horizontal_margin, LETTER[1] - vertical_margin - pokemon_height)\n",
    "        c.saveState()\n",
    "        new_page = False\n",
    "    row = all_pokemon[row_starting_index : row_starting_index + POKEMON_PER_ROW]\n",
    "    c.saveState()\n",
    "    for pokemon in row:\n",
    "        c.saveState()\n",
    "        c.rect(0, 0, pokemon_width, pokemon_height, stroke=1, fill=0)\n",
    "        c.setFont(\"Helvetica\", 10)\n",
    "        c.drawCentredString(\n",
    "            pokemon_width / 2, pokemon_height / 2 + 15, f\"#{pokemon['number']}\"\n",
    "        )\n",
    "        c.setFont(\"Helvetica\", 12)\n",
    "        c.drawCentredString(pokemon_width / 2, pokemon_height / 2, pokemon[\"name\"])\n",
    "        c.setFont(\"Helvetica\", 10)\n",
    "        c.translate(0, -20)\n",
    "        c.drawCentredString(pokemon_width / 2, pokemon_height / 2, pokemon[\"type 1\"])\n",
    "        if \"type 2\" in pokemon:\n",
    "            c.translate(0, -10)\n",
    "            c.drawCentredString(\n",
    "                pokemon_width / 2, pokemon_height / 2, pokemon[\"type 2\"]\n",
    "            )\n",
    "\n",
    "        c.restoreState()\n",
    "        c.translate(pokemon_width + horizontal_padding, 0)\n",
    "    c.restoreState()\n",
    "    c.translate(0, -pokemon_height - vertical_padding)\n",
    "    if (row_num + 1) % POKEMON_PER_COLUMN == 0:\n",
    "        c.restoreState()\n",
    "        c.showPage()\n",
    "        new_page = True\n",
    "c.save()\n"
   ]
  },
  {
   "cell_type": "code",
   "execution_count": 15,
   "metadata": {},
   "outputs": [],
   "source": [
    "!open pokedex.pdf"
   ]
  },
  {
   "cell_type": "code",
   "execution_count": null,
   "metadata": {},
   "outputs": [],
   "source": []
  }
 ],
 "metadata": {
  "kernelspec": {
   "display_name": "Python 3",
   "language": "python",
   "name": "python3"
  },
  "language_info": {
   "codemirror_mode": {
    "name": "ipython",
    "version": 3
   },
   "file_extension": ".py",
   "mimetype": "text/x-python",
   "name": "python",
   "nbconvert_exporter": "python",
   "pygments_lexer": "ipython3",
   "version": "3.8.13"
  },
  "orig_nbformat": 4,
  "vscode": {
   "interpreter": {
    "hash": "5679d50e6b60c83c4dba4d5ce71d5eb62bc7f97d96a95071f361721b54c0810b"
   }
  }
 },
 "nbformat": 4,
 "nbformat_minor": 2
}
